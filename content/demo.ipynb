{
  "metadata": {
    "kernelspec": {
      "name": "python",
      "display_name": "Python (Pyodide)",
      "language": "python"
    },
    "language_info": {
      "codemirror_mode": {
        "name": "python",
        "version": 3
      },
      "file_extension": ".py",
      "mimetype": "text/x-python",
      "name": "python",
      "nbconvert_exporter": "python",
      "pygments_lexer": "ipython3",
      "version": "3.8"
    },
    "widgets": {
      "application/vnd.jupyter.widget-state+json": {
        "state": {},
        "version_major": 2,
        "version_minor": 0
      }
    }
  },
  "nbformat_minor": 5,
  "nbformat": 4,
  "cells": [
    {
      "id": "bf84271a-407c-476b-95cf-9a86ef0a8533",
      "cell_type": "code",
      "source": "%pip install vega_datasets seaborn altair anywidget==0.9.13",
      "metadata": {
        "trusted": true
      },
      "outputs": [],
      "execution_count": null
    },
    {
      "id": "65d20c9c-45ed-4a98-abdc-be53fd028e90",
      "cell_type": "markdown",
      "source": "# Bringing Notebooks to Life with anywidget\n\nThis notebook contains the `anywidget` demo from the\n[2024 ACM CHI Workshop on Human-Notebook Interactions](https://humannotebookinteractions.github.io/).\n\nYou can watch the [video](https://youtu.be/Uzm9_2ZBfxo) and follow along, or just run the cells on your own. To learn more, check out the [docs](https://anywidget.dev/en/getting-started/) or the Jupyter [blog post](https://blog.jupyter.org/anywidget-jupyter-widgets-made-easy-164eb2eae102).",
      "metadata": {}
    },
    {
      "id": "0349ae92-9455-49f9-bc4a-3366993d5fc0",
      "cell_type": "markdown",
      "source": "## Status Quo: static outputs",
      "metadata": {}
    },
    {
      "id": "e0ec82e3-9557-47d5-88b6-88cc46d168b5",
      "cell_type": "code",
      "source": "from vega_datasets import data\n\ndf = data.cars()\ndf.head()",
      "metadata": {
        "trusted": true
      },
      "outputs": [],
      "execution_count": null
    },
    {
      "id": "c48e7d31-1c6e-4129-b488-e0e2c5da780d",
      "cell_type": "code",
      "source": "import seaborn as sns\n\nsns.scatterplot(x=\"Horsepower\", y=\"Miles_per_Gallon\", hue=\"Origin\", data=df)",
      "metadata": {
        "trusted": true
      },
      "outputs": [],
      "execution_count": null
    },
    {
      "id": "dc1b8f8b-7984-4592-a007-57e9c563725a",
      "cell_type": "markdown",
      "source": "## One-way data flow (surface level integration)",
      "metadata": {}
    },
    {
      "id": "aee4c5d2-11c4-4bca-acf4-5b03340454b5",
      "cell_type": "code",
      "source": "import altair as alt\n\nbrush = alt.selection_interval()\n\npoints = alt.Chart(df).mark_point().encode(\n    x=\"Horsepower\",\n    y=\"Miles_per_Gallon\",\n    color=alt.condition(brush, \"Origin\", alt.value(\"lightgray\")),\n    tooltip=[\"Horsepower\", \"Miles_per_Gallon\"],\n).add_params(\n    brush\n)\n\nbars = alt.Chart(df).mark_bar().encode(\n    y=\"Origin\",\n    color=\"Origin\",\n    x=\"count(Origin)\"\n).transform_filter(\n    brush\n)\n\nchart = (points & bars)\nchart",
      "metadata": {
        "trusted": true
      },
      "outputs": [],
      "execution_count": null
    },
    {
      "id": "e3fd9a7b-5539-4556-a365-7604fce579e8",
      "cell_type": "code",
      "source": "chart.selection # <- How can we access the JavaScript selection",
      "metadata": {
        "trusted": true
      },
      "outputs": [],
      "execution_count": null
    },
    {
      "id": "2c3a83e2-20d4-4747-88aa-92e7cb9b48d8",
      "cell_type": "markdown",
      "source": "## Two-way data flow (with anywidget)",
      "metadata": {}
    },
    {
      "id": "ea48898c-5745-4827-af4f-0620a5cc4c1c",
      "cell_type": "code",
      "source": "import anywidget\nimport traitlets\n\nclass ChartWidget(anywidget.AnyWidget):\n    spec = traitlets.Dict().tag(sync=True)\n    selection = traitlets.Dict(sync=True)\n\n    _esm = \"\"\"\n    import embed from \"https://cdn.jsdelivr.net/npm/vega-embed@6/+esm\";\n    async function render({ model, el }) {\n        let spec = model.get(\"spec\");\n        let api = await embed(el, spec);\n        api.view.addSignalListener(spec.params[0].name, (_, update) => {\n            model.set(\"selection\", update);\n            model.save_changes();\n        })\n    }\n    export default { render };\n    \"\"\"\n\nwidget = ChartWidget(spec=chart.to_dict())\nwidget",
      "metadata": {
        "trusted": true
      },
      "outputs": [],
      "execution_count": null
    },
    {
      "id": "5e72a93c-2ba9-4648-9b19-782b6cf9eb19",
      "cell_type": "code",
      "source": "# Make a new selection and re-run this cell! Notice output changes\nwidget.selection",
      "metadata": {
        "trusted": true
      },
      "outputs": [],
      "execution_count": null
    },
    {
      "id": "df143b6f-2d9a-4bab-823b-391cc71228c8",
      "cell_type": "markdown",
      "source": "## Composing widgets together",
      "metadata": {}
    },
    {
      "id": "21abddc7-9694-4cd7-9098-04bf79418204",
      "cell_type": "code",
      "source": "import ipywidgets\n\noutput = ipywidgets.Output()\n\n@output.capture(clear_output=True)\ndef on_change(change):\n    sub = df\n    selection = change.new\n    for field, (lower, upper) in selection.items():\n        sub = sub[(sub[field] > lower) & (sub[field] < upper)]\n    display(sub)\n\nwidget.observe(on_change, names=\"selection\")\nipywidgets.VBox([widget, output])",
      "metadata": {
        "trusted": true
      },
      "outputs": [],
      "execution_count": null
    },
    {
      "id": "12cd9ae9-72cf-4f93-a4e5-bdb929f30223",
      "cell_type": "code",
      "source": "",
      "metadata": {
        "trusted": true
      },
      "outputs": [],
      "execution_count": null
    }
  ]
}
